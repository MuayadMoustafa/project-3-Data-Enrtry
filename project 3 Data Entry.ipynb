{
 "cells": [
  {
   "cell_type": "code",
   "execution_count": 35,
   "id": "ca3b9543",
   "metadata": {},
   "outputs": [
    {
     "data": {
      "text/html": [
       "<div>\n",
       "<style scoped>\n",
       "    .dataframe tbody tr th:only-of-type {\n",
       "        vertical-align: middle;\n",
       "    }\n",
       "\n",
       "    .dataframe tbody tr th {\n",
       "        vertical-align: top;\n",
       "    }\n",
       "\n",
       "    .dataframe thead th {\n",
       "        text-align: right;\n",
       "    }\n",
       "</style>\n",
       "<table border=\"1\" class=\"dataframe\">\n",
       "  <thead>\n",
       "    <tr style=\"text-align: right;\">\n",
       "      <th></th>\n",
       "      <th>day</th>\n",
       "      <th>temperature</th>\n",
       "      <th>windspeed</th>\n",
       "      <th>event</th>\n",
       "    </tr>\n",
       "  </thead>\n",
       "  <tbody>\n",
       "    <tr>\n",
       "      <th>0</th>\n",
       "      <td>1/1/2017</td>\n",
       "      <td>32</td>\n",
       "      <td>6</td>\n",
       "      <td>Rain</td>\n",
       "    </tr>\n",
       "    <tr>\n",
       "      <th>1</th>\n",
       "      <td>1/2/2017</td>\n",
       "      <td>35</td>\n",
       "      <td>7</td>\n",
       "      <td>Sunny</td>\n",
       "    </tr>\n",
       "    <tr>\n",
       "      <th>2</th>\n",
       "      <td>1/3/2017</td>\n",
       "      <td>28</td>\n",
       "      <td>2</td>\n",
       "      <td>Snow</td>\n",
       "    </tr>\n",
       "    <tr>\n",
       "      <th>3</th>\n",
       "      <td>1/4/2017</td>\n",
       "      <td>24</td>\n",
       "      <td>7</td>\n",
       "      <td>Snow</td>\n",
       "    </tr>\n",
       "    <tr>\n",
       "      <th>4</th>\n",
       "      <td>1/5/2017</td>\n",
       "      <td>32</td>\n",
       "      <td>4</td>\n",
       "      <td>Sunny</td>\n",
       "    </tr>\n",
       "    <tr>\n",
       "      <th>5</th>\n",
       "      <td>1/6/2017</td>\n",
       "      <td>31</td>\n",
       "      <td>2</td>\n",
       "      <td>Sunny</td>\n",
       "    </tr>\n",
       "  </tbody>\n",
       "</table>\n",
       "</div>"
      ],
      "text/plain": [
       "        day  temperature  windspeed  event\n",
       "0  1/1/2017           32          6   Rain\n",
       "1  1/2/2017           35          7  Sunny\n",
       "2  1/3/2017           28          2   Snow\n",
       "3  1/4/2017           24          7   Snow\n",
       "4  1/5/2017           32          4  Sunny\n",
       "5  1/6/2017           31          2  Sunny"
      ]
     },
     "execution_count": 35,
     "metadata": {},
     "output_type": "execute_result"
    }
   ],
   "source": [
    "import pandas as pd \n",
    "\n",
    "weather_data = {\n",
    "    'day': ['1/1/2017','1/2/2017','1/3/2017','1/4/2017','1/5/2017','1/6/2017'],\n",
    "    'temperature': [32,35,28,24,32,31],\n",
    "    'windspeed': [6,7,2,7,4,2],\n",
    "    'event': ['Rain', 'Sunny', 'Snow','Snow','Sunny', 'Sunny']\n",
    "}\n",
    "df = pd.DataFrame(weather_data)\n",
    "df "
   ]
  },
  {
   "cell_type": "code",
   "execution_count": 2,
   "id": "b4b2857c",
   "metadata": {},
   "outputs": [
    {
     "data": {
      "text/html": [
       "<div>\n",
       "<style scoped>\n",
       "    .dataframe tbody tr th:only-of-type {\n",
       "        vertical-align: middle;\n",
       "    }\n",
       "\n",
       "    .dataframe tbody tr th {\n",
       "        vertical-align: top;\n",
       "    }\n",
       "\n",
       "    .dataframe thead th {\n",
       "        text-align: right;\n",
       "    }\n",
       "</style>\n",
       "<table border=\"1\" class=\"dataframe\">\n",
       "  <thead>\n",
       "    <tr style=\"text-align: right;\">\n",
       "      <th></th>\n",
       "      <th>temperature</th>\n",
       "      <th>windspeed</th>\n",
       "    </tr>\n",
       "  </thead>\n",
       "  <tbody>\n",
       "    <tr>\n",
       "      <th>count</th>\n",
       "      <td>6.000000</td>\n",
       "      <td>6.000000</td>\n",
       "    </tr>\n",
       "    <tr>\n",
       "      <th>mean</th>\n",
       "      <td>30.333333</td>\n",
       "      <td>4.666667</td>\n",
       "    </tr>\n",
       "    <tr>\n",
       "      <th>std</th>\n",
       "      <td>3.829708</td>\n",
       "      <td>2.338090</td>\n",
       "    </tr>\n",
       "    <tr>\n",
       "      <th>min</th>\n",
       "      <td>24.000000</td>\n",
       "      <td>2.000000</td>\n",
       "    </tr>\n",
       "    <tr>\n",
       "      <th>25%</th>\n",
       "      <td>28.750000</td>\n",
       "      <td>2.500000</td>\n",
       "    </tr>\n",
       "    <tr>\n",
       "      <th>50%</th>\n",
       "      <td>31.500000</td>\n",
       "      <td>5.000000</td>\n",
       "    </tr>\n",
       "    <tr>\n",
       "      <th>75%</th>\n",
       "      <td>32.000000</td>\n",
       "      <td>6.750000</td>\n",
       "    </tr>\n",
       "    <tr>\n",
       "      <th>max</th>\n",
       "      <td>35.000000</td>\n",
       "      <td>7.000000</td>\n",
       "    </tr>\n",
       "  </tbody>\n",
       "</table>\n",
       "</div>"
      ],
      "text/plain": [
       "       temperature  windspeed\n",
       "count     6.000000   6.000000\n",
       "mean     30.333333   4.666667\n",
       "std       3.829708   2.338090\n",
       "min      24.000000   2.000000\n",
       "25%      28.750000   2.500000\n",
       "50%      31.500000   5.000000\n",
       "75%      32.000000   6.750000\n",
       "max      35.000000   7.000000"
      ]
     },
     "execution_count": 2,
     "metadata": {},
     "output_type": "execute_result"
    }
   ],
   "source": [
    "df.describe()"
   ]
  },
  {
   "cell_type": "code",
   "execution_count": 4,
   "id": "057b3d1e",
   "metadata": {},
   "outputs": [
    {
     "data": {
      "text/plain": [
       "(6, 4)"
      ]
     },
     "execution_count": 4,
     "metadata": {},
     "output_type": "execute_result"
    }
   ],
   "source": [
    "df.shape"
   ]
  },
  {
   "cell_type": "code",
   "execution_count": 5,
   "id": "ab8177d9",
   "metadata": {},
   "outputs": [
    {
     "data": {
      "text/html": [
       "<div>\n",
       "<style scoped>\n",
       "    .dataframe tbody tr th:only-of-type {\n",
       "        vertical-align: middle;\n",
       "    }\n",
       "\n",
       "    .dataframe tbody tr th {\n",
       "        vertical-align: top;\n",
       "    }\n",
       "\n",
       "    .dataframe thead th {\n",
       "        text-align: right;\n",
       "    }\n",
       "</style>\n",
       "<table border=\"1\" class=\"dataframe\">\n",
       "  <thead>\n",
       "    <tr style=\"text-align: right;\">\n",
       "      <th></th>\n",
       "      <th>day</th>\n",
       "      <th>temperature</th>\n",
       "      <th>windspeed</th>\n",
       "      <th>event</th>\n",
       "    </tr>\n",
       "  </thead>\n",
       "  <tbody>\n",
       "    <tr>\n",
       "      <th>2</th>\n",
       "      <td>1/3/2017</td>\n",
       "      <td>28</td>\n",
       "      <td>2</td>\n",
       "      <td>Snow</td>\n",
       "    </tr>\n",
       "    <tr>\n",
       "      <th>3</th>\n",
       "      <td>1/4/2017</td>\n",
       "      <td>24</td>\n",
       "      <td>7</td>\n",
       "      <td>Snow</td>\n",
       "    </tr>\n",
       "    <tr>\n",
       "      <th>4</th>\n",
       "      <td>1/5/2017</td>\n",
       "      <td>32</td>\n",
       "      <td>4</td>\n",
       "      <td>Sunny</td>\n",
       "    </tr>\n",
       "  </tbody>\n",
       "</table>\n",
       "</div>"
      ],
      "text/plain": [
       "        day  temperature  windspeed  event\n",
       "2  1/3/2017           28          2   Snow\n",
       "3  1/4/2017           24          7   Snow\n",
       "4  1/5/2017           32          4  Sunny"
      ]
     },
     "execution_count": 5,
     "metadata": {},
     "output_type": "execute_result"
    }
   ],
   "source": [
    "newdf = df[2:5]\n",
    "newdf"
   ]
  },
  {
   "cell_type": "code",
   "execution_count": 8,
   "id": "23c29323",
   "metadata": {},
   "outputs": [
    {
     "data": {
      "text/html": [
       "<div>\n",
       "<style scoped>\n",
       "    .dataframe tbody tr th:only-of-type {\n",
       "        vertical-align: middle;\n",
       "    }\n",
       "\n",
       "    .dataframe tbody tr th {\n",
       "        vertical-align: top;\n",
       "    }\n",
       "\n",
       "    .dataframe thead th {\n",
       "        text-align: right;\n",
       "    }\n",
       "</style>\n",
       "<table border=\"1\" class=\"dataframe\">\n",
       "  <thead>\n",
       "    <tr style=\"text-align: right;\">\n",
       "      <th></th>\n",
       "      <th>day</th>\n",
       "      <th>temperature</th>\n",
       "      <th>windspeed</th>\n",
       "    </tr>\n",
       "  </thead>\n",
       "  <tbody>\n",
       "    <tr>\n",
       "      <th>2</th>\n",
       "      <td>1/3/2017</td>\n",
       "      <td>28</td>\n",
       "      <td>2</td>\n",
       "    </tr>\n",
       "    <tr>\n",
       "      <th>3</th>\n",
       "      <td>1/4/2017</td>\n",
       "      <td>24</td>\n",
       "      <td>7</td>\n",
       "    </tr>\n",
       "    <tr>\n",
       "      <th>4</th>\n",
       "      <td>1/5/2017</td>\n",
       "      <td>32</td>\n",
       "      <td>4</td>\n",
       "    </tr>\n",
       "  </tbody>\n",
       "</table>\n",
       "</div>"
      ],
      "text/plain": [
       "        day  temperature  windspeed\n",
       "2  1/3/2017           28          2\n",
       "3  1/4/2017           24          7\n",
       "4  1/5/2017           32          4"
      ]
     },
     "execution_count": 8,
     "metadata": {},
     "output_type": "execute_result"
    }
   ],
   "source": [
    "newdf = df.iloc[2:5 , :-1]\n",
    "newdf"
   ]
  },
  {
   "cell_type": "code",
   "execution_count": 14,
   "id": "237e7bab",
   "metadata": {},
   "outputs": [
    {
     "data": {
      "text/html": [
       "<div>\n",
       "<style scoped>\n",
       "    .dataframe tbody tr th:only-of-type {\n",
       "        vertical-align: middle;\n",
       "    }\n",
       "\n",
       "    .dataframe tbody tr th {\n",
       "        vertical-align: top;\n",
       "    }\n",
       "\n",
       "    .dataframe thead th {\n",
       "        text-align: right;\n",
       "    }\n",
       "</style>\n",
       "<table border=\"1\" class=\"dataframe\">\n",
       "  <thead>\n",
       "    <tr style=\"text-align: right;\">\n",
       "      <th></th>\n",
       "      <th>day</th>\n",
       "      <th>temperature</th>\n",
       "      <th>windspeed</th>\n",
       "      <th>event</th>\n",
       "    </tr>\n",
       "  </thead>\n",
       "  <tbody>\n",
       "    <tr>\n",
       "      <th>0</th>\n",
       "      <td>1/1/2017</td>\n",
       "      <td>32</td>\n",
       "      <td>6</td>\n",
       "      <td>Rain</td>\n",
       "    </tr>\n",
       "    <tr>\n",
       "      <th>1</th>\n",
       "      <td>1/2/2017</td>\n",
       "      <td>35</td>\n",
       "      <td>7</td>\n",
       "      <td>Sunny</td>\n",
       "    </tr>\n",
       "  </tbody>\n",
       "</table>\n",
       "</div>"
      ],
      "text/plain": [
       "        day  temperature  windspeed  event\n",
       "0  1/1/2017           32          6   Rain\n",
       "1  1/2/2017           35          7  Sunny"
      ]
     },
     "execution_count": 14,
     "metadata": {},
     "output_type": "execute_result"
    }
   ],
   "source": [
    "df.head(2)\n"
   ]
  },
  {
   "cell_type": "code",
   "execution_count": 13,
   "id": "b783e481",
   "metadata": {},
   "outputs": [
    {
     "data": {
      "text/html": [
       "<div>\n",
       "<style scoped>\n",
       "    .dataframe tbody tr th:only-of-type {\n",
       "        vertical-align: middle;\n",
       "    }\n",
       "\n",
       "    .dataframe tbody tr th {\n",
       "        vertical-align: top;\n",
       "    }\n",
       "\n",
       "    .dataframe thead th {\n",
       "        text-align: right;\n",
       "    }\n",
       "</style>\n",
       "<table border=\"1\" class=\"dataframe\">\n",
       "  <thead>\n",
       "    <tr style=\"text-align: right;\">\n",
       "      <th></th>\n",
       "      <th>day</th>\n",
       "      <th>temperature</th>\n",
       "      <th>windspeed</th>\n",
       "      <th>event</th>\n",
       "    </tr>\n",
       "  </thead>\n",
       "  <tbody>\n",
       "    <tr>\n",
       "      <th>4</th>\n",
       "      <td>1/5/2017</td>\n",
       "      <td>32</td>\n",
       "      <td>4</td>\n",
       "      <td>Sunny</td>\n",
       "    </tr>\n",
       "    <tr>\n",
       "      <th>5</th>\n",
       "      <td>1/6/2017</td>\n",
       "      <td>31</td>\n",
       "      <td>2</td>\n",
       "      <td>Sunny</td>\n",
       "    </tr>\n",
       "  </tbody>\n",
       "</table>\n",
       "</div>"
      ],
      "text/plain": [
       "        day  temperature  windspeed  event\n",
       "4  1/5/2017           32          4  Sunny\n",
       "5  1/6/2017           31          2  Sunny"
      ]
     },
     "execution_count": 13,
     "metadata": {},
     "output_type": "execute_result"
    }
   ],
   "source": [
    "df.tail(2)"
   ]
  },
  {
   "cell_type": "code",
   "execution_count": 15,
   "id": "d10812b1",
   "metadata": {},
   "outputs": [
    {
     "data": {
      "text/plain": [
       "0     Rain\n",
       "1    Sunny\n",
       "2     Snow\n",
       "3     Snow\n",
       "4    Sunny\n",
       "5    Sunny\n",
       "Name: event, dtype: object"
      ]
     },
     "execution_count": 15,
     "metadata": {},
     "output_type": "execute_result"
    }
   ],
   "source": [
    "df.event"
   ]
  },
  {
   "cell_type": "code",
   "execution_count": 16,
   "id": "3d31ce69",
   "metadata": {},
   "outputs": [
    {
     "data": {
      "text/plain": [
       "0    1/1/2017\n",
       "1    1/2/2017\n",
       "2    1/3/2017\n",
       "3    1/4/2017\n",
       "4    1/5/2017\n",
       "5    1/6/2017\n",
       "Name: day, dtype: object"
      ]
     },
     "execution_count": 16,
     "metadata": {},
     "output_type": "execute_result"
    }
   ],
   "source": [
    "df.day"
   ]
  },
  {
   "cell_type": "code",
   "execution_count": 17,
   "id": "0a5e820c",
   "metadata": {},
   "outputs": [
    {
     "data": {
      "text/plain": [
       "0    32\n",
       "1    35\n",
       "2    28\n",
       "3    24\n",
       "4    32\n",
       "5    31\n",
       "Name: temperature, dtype: int64"
      ]
     },
     "execution_count": 17,
     "metadata": {},
     "output_type": "execute_result"
    }
   ],
   "source": [
    "df.temperature"
   ]
  },
  {
   "cell_type": "code",
   "execution_count": 18,
   "id": "8e896f52",
   "metadata": {},
   "outputs": [
    {
     "data": {
      "text/plain": [
       "0    6\n",
       "1    7\n",
       "2    2\n",
       "3    7\n",
       "4    4\n",
       "5    2\n",
       "Name: windspeed, dtype: int64"
      ]
     },
     "execution_count": 18,
     "metadata": {},
     "output_type": "execute_result"
    }
   ],
   "source": [
    "df.windspeed"
   ]
  },
  {
   "cell_type": "code",
   "execution_count": 21,
   "id": "fc6fc47f",
   "metadata": {},
   "outputs": [
    {
     "data": {
      "text/html": [
       "<div>\n",
       "<style scoped>\n",
       "    .dataframe tbody tr th:only-of-type {\n",
       "        vertical-align: middle;\n",
       "    }\n",
       "\n",
       "    .dataframe tbody tr th {\n",
       "        vertical-align: top;\n",
       "    }\n",
       "\n",
       "    .dataframe thead th {\n",
       "        text-align: right;\n",
       "    }\n",
       "</style>\n",
       "<table border=\"1\" class=\"dataframe\">\n",
       "  <thead>\n",
       "    <tr style=\"text-align: right;\">\n",
       "      <th></th>\n",
       "      <th>day</th>\n",
       "      <th>event</th>\n",
       "    </tr>\n",
       "  </thead>\n",
       "  <tbody>\n",
       "    <tr>\n",
       "      <th>0</th>\n",
       "      <td>1/1/2017</td>\n",
       "      <td>Rain</td>\n",
       "    </tr>\n",
       "    <tr>\n",
       "      <th>1</th>\n",
       "      <td>1/2/2017</td>\n",
       "      <td>Sunny</td>\n",
       "    </tr>\n",
       "    <tr>\n",
       "      <th>2</th>\n",
       "      <td>1/3/2017</td>\n",
       "      <td>Snow</td>\n",
       "    </tr>\n",
       "    <tr>\n",
       "      <th>3</th>\n",
       "      <td>1/4/2017</td>\n",
       "      <td>Snow</td>\n",
       "    </tr>\n",
       "    <tr>\n",
       "      <th>4</th>\n",
       "      <td>1/5/2017</td>\n",
       "      <td>Sunny</td>\n",
       "    </tr>\n",
       "    <tr>\n",
       "      <th>5</th>\n",
       "      <td>1/6/2017</td>\n",
       "      <td>Sunny</td>\n",
       "    </tr>\n",
       "  </tbody>\n",
       "</table>\n",
       "</div>"
      ],
      "text/plain": [
       "        day  event\n",
       "0  1/1/2017   Rain\n",
       "1  1/2/2017  Sunny\n",
       "2  1/3/2017   Snow\n",
       "3  1/4/2017   Snow\n",
       "4  1/5/2017  Sunny\n",
       "5  1/6/2017  Sunny"
      ]
     },
     "execution_count": 21,
     "metadata": {},
     "output_type": "execute_result"
    }
   ],
   "source": [
    "discipline = df[[\"day\",\"event\"]]\n",
    "discipline"
   ]
  },
  {
   "cell_type": "code",
   "execution_count": 31,
   "id": "93787541",
   "metadata": {},
   "outputs": [
    {
     "name": "stdout",
     "output_type": "stream",
     "text": [
      "30.333333333333332\n",
      "31.5\n",
      "176\n",
      "3.8297084310253524\n",
      "35\n",
      "24\n"
     ]
    }
   ],
   "source": [
    "print(df.temperature.mean())\n",
    "print(df.temperature.median())\n",
    "print(df.temperature.memory_usage())\n",
    "print(df.temperature.std())\n",
    "print(df.temperature.max())\n",
    "print(df.temperature.min())"
   ]
  },
  {
   "cell_type": "code",
   "execution_count": 39,
   "id": "df368706",
   "metadata": {},
   "outputs": [
    {
     "data": {
      "text/plain": [
       "6"
      ]
     },
     "execution_count": 39,
     "metadata": {},
     "output_type": "execute_result"
    }
   ],
   "source": [
    "len(df[\"windspeed\"])"
   ]
  },
  {
   "cell_type": "code",
   "execution_count": 46,
   "id": "5129b04e",
   "metadata": {},
   "outputs": [
    {
     "data": {
      "text/plain": [
       "2"
      ]
     },
     "execution_count": 46,
     "metadata": {},
     "output_type": "execute_result"
    }
   ],
   "source": [
    "len(df[ df['temperature'] < 30 ])"
   ]
  },
  {
   "cell_type": "code",
   "execution_count": 48,
   "id": "57131b4b",
   "metadata": {},
   "outputs": [
    {
     "data": {
      "text/plain": [
       "day            6\n",
       "temperature    6\n",
       "windspeed      6\n",
       "event          6\n",
       "dtype: int64"
      ]
     },
     "execution_count": 48,
     "metadata": {},
     "output_type": "execute_result"
    }
   ],
   "source": [
    "df.count()"
   ]
  },
  {
   "cell_type": "code",
   "execution_count": 3,
   "id": "65b95bf5",
   "metadata": {},
   "outputs": [
    {
     "name": "stdout",
     "output_type": "stream",
     "text": [
      "please enter the number of columns10\n",
      "please enter the column name: A\n",
      "please enter the column name: B\n",
      "please enter the column name: C\n",
      "please enter the column name: D\n",
      "please enter the column name: E\n",
      "please enter the column name: F\n",
      "please enter the column name: G\n",
      "please enter the column name: H\n",
      "please enter the column name: I\n",
      "please enter the column name: J\n",
      "please enter the number of rows: 10\n",
      "please enter the value of A: 1\n",
      "please enter the value of B: 2\n",
      "please enter the value of C: 3\n",
      "please enter the value of D: 4\n",
      "please enter the value of E: 5\n",
      "please enter the value of F: 6\n",
      "please enter the value of G: 7\n",
      "please enter the value of H: 8\n",
      "please enter the value of I: 9\n",
      "please enter the value of J: 10\n",
      "please enter the value of A: A1\n",
      "please enter the value of B: B2\n",
      "please enter the value of C: C3\n",
      "please enter the value of D: D4\n",
      "please enter the value of E: E5\n",
      "please enter the value of F: F6\n",
      "please enter the value of G: G7\n",
      "please enter the value of H: H8\n",
      "please enter the value of I: I9\n",
      "please enter the value of J: J10\n",
      "please enter the value of A: 10\n",
      "please enter the value of B: 20\n",
      "please enter the value of C: 30\n",
      "please enter the value of D: 40\n",
      "please enter the value of E: 50\n",
      "please enter the value of F: 60\n",
      "please enter the value of G: 70\n",
      "please enter the value of H: 80\n",
      "please enter the value of I: 90\n",
      "please enter the value of J: 100\n",
      "please enter the value of A: -10\n",
      "please enter the value of B: -20\n",
      "please enter the value of C: -30\n",
      "please enter the value of D: -40\n",
      "please enter the value of E: -50\n",
      "please enter the value of F: -60\n",
      "please enter the value of G: -70\n",
      "please enter the value of H: -80\n",
      "please enter the value of I: -90\n",
      "please enter the value of J: -100\n",
      "please enter the value of A: AA\n",
      "please enter the value of B: AB\n",
      "please enter the value of C: AC\n",
      "please enter the value of D: AD\n",
      "please enter the value of E: AE\n",
      "please enter the value of F: AF\n",
      "please enter the value of G: AG\n",
      "please enter the value of H: AH\n",
      "please enter the value of I: AI\n",
      "please enter the value of J: AJ\n",
      "please enter the value of A: BB\n",
      "please enter the value of B: BA\n",
      "please enter the value of C: BC\n",
      "please enter the value of D: BD\n",
      "please enter the value of E: BE\n",
      "please enter the value of F: BF\n",
      "please enter the value of G: BG\n",
      "please enter the value of H: BI\n",
      "please enter the value of I: BH\n",
      "please enter the value of J: BJ\n",
      "please enter the value of A: CA\n",
      "please enter the value of B: CB\n",
      "please enter the value of C: CC\n",
      "please enter the value of D: CD\n",
      "please enter the value of E: CE\n",
      "please enter the value of F: CF\n",
      "please enter the value of G: CG\n",
      "please enter the value of H: CH\n",
      "please enter the value of I: CI\n",
      "please enter the value of J: CJ\n",
      "please enter the value of A: DA\n",
      "please enter the value of B: DB\n",
      "please enter the value of C: DC\n",
      "please enter the value of D: DD\n",
      "please enter the value of E: DE\n",
      "please enter the value of F: DF\n",
      "please enter the value of G: DG\n",
      "please enter the value of H: DH\n",
      "please enter the value of I: DI\n",
      "please enter the value of J: DJ\n",
      "please enter the value of A: EA\n",
      "please enter the value of B: EB\n",
      "please enter the value of C: EC\n",
      "please enter the value of D: ED\n",
      "please enter the value of E: EF\n",
      "please enter the value of F: EE\n",
      "please enter the value of G: EG\n",
      "please enter the value of H: EH\n",
      "please enter the value of I: EI\n",
      "please enter the value of J: EJ\n",
      "please enter the value of A: FA\n",
      "please enter the value of B: FB\n",
      "please enter the value of C: FC\n",
      "please enter the value of D: FD\n",
      "please enter the value of E: FE\n",
      "please enter the value of F: FF\n",
      "please enter the value of G: FG\n",
      "please enter the value of H: FH\n",
      "please enter the value of I: FI\n",
      "please enter the value of J: FJ\n"
     ]
    },
    {
     "data": {
      "text/html": [
       "<div>\n",
       "<style scoped>\n",
       "    .dataframe tbody tr th:only-of-type {\n",
       "        vertical-align: middle;\n",
       "    }\n",
       "\n",
       "    .dataframe tbody tr th {\n",
       "        vertical-align: top;\n",
       "    }\n",
       "\n",
       "    .dataframe thead th {\n",
       "        text-align: right;\n",
       "    }\n",
       "</style>\n",
       "<table border=\"1\" class=\"dataframe\">\n",
       "  <thead>\n",
       "    <tr style=\"text-align: right;\">\n",
       "      <th></th>\n",
       "      <th>A</th>\n",
       "      <th>B</th>\n",
       "      <th>C</th>\n",
       "      <th>D</th>\n",
       "      <th>E</th>\n",
       "      <th>F</th>\n",
       "      <th>G</th>\n",
       "      <th>H</th>\n",
       "      <th>I</th>\n",
       "      <th>J</th>\n",
       "    </tr>\n",
       "  </thead>\n",
       "  <tbody>\n",
       "    <tr>\n",
       "      <th>0</th>\n",
       "      <td>1</td>\n",
       "      <td>2</td>\n",
       "      <td>3</td>\n",
       "      <td>4</td>\n",
       "      <td>5</td>\n",
       "      <td>6</td>\n",
       "      <td>7</td>\n",
       "      <td>8</td>\n",
       "      <td>9</td>\n",
       "      <td>10</td>\n",
       "    </tr>\n",
       "    <tr>\n",
       "      <th>1</th>\n",
       "      <td>A1</td>\n",
       "      <td>B2</td>\n",
       "      <td>C3</td>\n",
       "      <td>D4</td>\n",
       "      <td>E5</td>\n",
       "      <td>F6</td>\n",
       "      <td>G7</td>\n",
       "      <td>H8</td>\n",
       "      <td>I9</td>\n",
       "      <td>J10</td>\n",
       "    </tr>\n",
       "    <tr>\n",
       "      <th>2</th>\n",
       "      <td>10</td>\n",
       "      <td>20</td>\n",
       "      <td>30</td>\n",
       "      <td>40</td>\n",
       "      <td>50</td>\n",
       "      <td>60</td>\n",
       "      <td>70</td>\n",
       "      <td>80</td>\n",
       "      <td>90</td>\n",
       "      <td>100</td>\n",
       "    </tr>\n",
       "    <tr>\n",
       "      <th>3</th>\n",
       "      <td>-10</td>\n",
       "      <td>-20</td>\n",
       "      <td>-30</td>\n",
       "      <td>-40</td>\n",
       "      <td>-50</td>\n",
       "      <td>-60</td>\n",
       "      <td>-70</td>\n",
       "      <td>-80</td>\n",
       "      <td>-90</td>\n",
       "      <td>-100</td>\n",
       "    </tr>\n",
       "    <tr>\n",
       "      <th>4</th>\n",
       "      <td>AA</td>\n",
       "      <td>AB</td>\n",
       "      <td>AC</td>\n",
       "      <td>AD</td>\n",
       "      <td>AE</td>\n",
       "      <td>AF</td>\n",
       "      <td>AG</td>\n",
       "      <td>AH</td>\n",
       "      <td>AI</td>\n",
       "      <td>AJ</td>\n",
       "    </tr>\n",
       "    <tr>\n",
       "      <th>5</th>\n",
       "      <td>BB</td>\n",
       "      <td>BA</td>\n",
       "      <td>BC</td>\n",
       "      <td>BD</td>\n",
       "      <td>BE</td>\n",
       "      <td>BF</td>\n",
       "      <td>BG</td>\n",
       "      <td>BI</td>\n",
       "      <td>BH</td>\n",
       "      <td>BJ</td>\n",
       "    </tr>\n",
       "    <tr>\n",
       "      <th>6</th>\n",
       "      <td>CA</td>\n",
       "      <td>CB</td>\n",
       "      <td>CC</td>\n",
       "      <td>CD</td>\n",
       "      <td>CE</td>\n",
       "      <td>CF</td>\n",
       "      <td>CG</td>\n",
       "      <td>CH</td>\n",
       "      <td>CI</td>\n",
       "      <td>CJ</td>\n",
       "    </tr>\n",
       "    <tr>\n",
       "      <th>7</th>\n",
       "      <td>DA</td>\n",
       "      <td>DB</td>\n",
       "      <td>DC</td>\n",
       "      <td>DD</td>\n",
       "      <td>DE</td>\n",
       "      <td>DF</td>\n",
       "      <td>DG</td>\n",
       "      <td>DH</td>\n",
       "      <td>DI</td>\n",
       "      <td>DJ</td>\n",
       "    </tr>\n",
       "    <tr>\n",
       "      <th>8</th>\n",
       "      <td>EA</td>\n",
       "      <td>EB</td>\n",
       "      <td>EC</td>\n",
       "      <td>ED</td>\n",
       "      <td>EF</td>\n",
       "      <td>EE</td>\n",
       "      <td>EG</td>\n",
       "      <td>EH</td>\n",
       "      <td>EI</td>\n",
       "      <td>EJ</td>\n",
       "    </tr>\n",
       "    <tr>\n",
       "      <th>9</th>\n",
       "      <td>FA</td>\n",
       "      <td>FB</td>\n",
       "      <td>FC</td>\n",
       "      <td>FD</td>\n",
       "      <td>FE</td>\n",
       "      <td>FF</td>\n",
       "      <td>FG</td>\n",
       "      <td>FH</td>\n",
       "      <td>FI</td>\n",
       "      <td>FJ</td>\n",
       "    </tr>\n",
       "  </tbody>\n",
       "</table>\n",
       "</div>"
      ],
      "text/plain": [
       "     A    B    C    D    E    F    G    H    I     J\n",
       "0    1    2    3    4    5    6    7    8    9    10\n",
       "1   A1   B2   C3   D4   E5   F6   G7   H8   I9   J10\n",
       "2   10   20   30   40   50   60   70   80   90   100\n",
       "3  -10  -20  -30  -40  -50  -60  -70  -80  -90  -100\n",
       "4   AA   AB   AC   AD   AE   AF   AG   AH   AI    AJ\n",
       "5   BB   BA   BC   BD   BE   BF   BG   BI   BH    BJ\n",
       "6   CA   CB   CC   CD   CE   CF   CG   CH   CI    CJ\n",
       "7   DA   DB   DC   DD   DE   DF   DG   DH   DI    DJ\n",
       "8   EA   EB   EC   ED   EF   EE   EG   EH   EI    EJ\n",
       "9   FA   FB   FC   FD   FE   FF   FG   FH   FI    FJ"
      ]
     },
     "execution_count": 3,
     "metadata": {},
     "output_type": "execute_result"
    }
   ],
   "source": [
    "import pandas as pd \n",
    "\n",
    "columns = []\n",
    "data = dict()\n",
    "\n",
    "num = int(input(\"please enter the number of columns\"))\n",
    "while(num > 0):\n",
    "    columns.append(input(\"please enter the column name: \"))\n",
    "    num -=1\n",
    "\n",
    "for i in columns:\n",
    "    data[i] = []\n",
    "\n",
    "rows = int(input(\"please enter the number of rows: \"))\n",
    "while(rows > 0):\n",
    "    for i in data:\n",
    "        value = input(f\"please enter the value of {i}: \")\n",
    "        data[i].append(value)\n",
    "\n",
    "    rows-=1\n",
    "dataframe = pd.DataFrame(data)\n",
    "dataframe"
   ]
  },
  {
   "cell_type": "code",
   "execution_count": null,
   "id": "8b8891e9",
   "metadata": {},
   "outputs": [],
   "source": []
  }
 ],
 "metadata": {
  "kernelspec": {
   "display_name": "Python 3 (ipykernel)",
   "language": "python",
   "name": "python3"
  },
  "language_info": {
   "codemirror_mode": {
    "name": "ipython",
    "version": 3
   },
   "file_extension": ".py",
   "mimetype": "text/x-python",
   "name": "python",
   "nbconvert_exporter": "python",
   "pygments_lexer": "ipython3",
   "version": "3.9.7"
  }
 },
 "nbformat": 4,
 "nbformat_minor": 5
}
